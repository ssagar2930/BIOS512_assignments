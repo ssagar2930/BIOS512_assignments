{
 "cells": [
  {
   "cell_type": "markdown",
   "id": "766a4c53-5596-4e39-9082-8e97c8e59c41",
   "metadata": {},
   "source": [
    "# Homework 7\n",
    "This homework is based on the advanced Git lectures. "
   ]
  },
  {
   "cell_type": "markdown",
   "id": "bbb6e943-d49a-4d2e-81f3-59c2d1a3be31",
   "metadata": {},
   "source": [
    "## Question 1\n",
    "#### What is the holy trinity of Git? (Just name the parts.)"
   ]
  },
  {
   "cell_type": "markdown",
   "id": "d00748a0-dbf6-4f76-8491-669585ce1416",
   "metadata": {},
   "source": [
    "the tree, the stage, and the head"
   ]
  },
  {
   "cell_type": "markdown",
   "id": "47bc27c0-290e-4e94-a071-a37ff613a7c8",
   "metadata": {},
   "source": [
    "## Question 2\n",
    "#### Explain how patches relate to the idea of committing a change to the history of your code?"
   ]
  },
  {
   "cell_type": "markdown",
   "id": "ce6b87d6-c5d7-4696-a18e-492d04b2796b",
   "metadata": {},
   "source": [
    "The patch program applies a patch file to a file. It transforms one version of your file to updated file. The patch file will record all changes needed to transform one version to another, and when applying a patch, you can write your changes to a new file instead of overwriting the old one. Basically, patch files are temporary versions between an old and a new file. "
   ]
  },
  {
   "cell_type": "markdown",
   "id": "9aa99e0b-8fbe-4ccc-a728-b39b1fda153c",
   "metadata": {},
   "source": [
    "## Question 3\n",
    "#### What is the difference between a branch and a fork?"
   ]
  },
  {
   "cell_type": "markdown",
   "id": "250dee47-1486-4be3-88ce-f849475712c7",
   "metadata": {},
   "source": [
    "A branch is the history of your code up until a certain moment, or a linear series of commits. A branch points to a commit. A fork is a copy of a repository that is permanently separate from the original. It is different from a branch because a branch is temporary and part of the same repository but a fork is permanent. "
   ]
  },
  {
   "cell_type": "markdown",
   "id": "c6ac98c7-e4ea-4274-a88d-398cb739fab9",
   "metadata": {},
   "source": [
    "## Question 4\n",
    "#### How are diff and patch related? What’s the difference?"
   ]
  },
  {
   "cell_type": "markdown",
   "id": "3286d3e8-14cc-44f6-8bfa-dbfc801c3721",
   "metadata": {},
   "source": [
    "diff tells us the difference between two files in a human-readable format, and a machine-readable way, so that it can tell patch to transform the first file into the second file. Diff tells you the differences between two files, and patch transforms one file so it is updated to the other."
   ]
  },
  {
   "cell_type": "markdown",
   "id": "02988321-54d5-4086-a62f-d6f7a5961c22",
   "metadata": {},
   "source": [
    "## Question 5\n",
    "#### See the diagram below.\n",
    "```\n",
    "alice            *-*-*-*-d-e     \n",
    "bob              *-*-*-*-a-b-c\n",
    "origin/main      *-*-*-*-a-b-c\n",
    "```\n",
    "#### a) What part of the Git trininty does each line represent?\n",
    "#### b) What would the result be if Alice performed a rebase? Edit the diagram. What would she type in the terminal to rebase, then push?\n",
    "#### c) What would the result be if Alice performed a merge? Edit the diagram. What would she type in the terminal to merge, then push?\n",
    "#### d) Which would be the better option (rebase vs. merge)? Why?"
   ]
  },
  {
   "cell_type": "markdown",
   "id": "ac61f446-4335-4f1d-b634-fdb7459ea731",
   "metadata": {},
   "source": [
    "a) branch \n",
    "\n",
    "b) \n",
    "Alice: *-*-*-*-a-b-c-d'-e'\n",
    "Bob: *-*-*-*-*-a-b-c\n",
    "origin/main: *-*-*-*-*-a-b-c-d'-e'\n",
    "\n",
    "git rebase\n",
    "git push --force-with-lease\n",
    "\n",
    "c) \n",
    "Alice: *-*-*-*-d-e-a-b-c\n",
    "Bob: *-*-*-*-*-a-b-c\n",
    "origin/main: *-*-*-*-*-d-e-a-b-c\n",
    "\n",
    "git merge\n",
    "git push\n",
    "\n",
    "d) Rebase is the better option. Rebase temporarily hides the uncommitted changes and gets the changes from the remote branch, then adds the uncommitted changes on top. The uncommited changes will be marked with primes. That way, when you push to git, the history is much cleaner and shows you exactly what happened. This is more functional for working with multiple collaborators. \n"
   ]
  },
  {
   "cell_type": "markdown",
   "id": "65b5eb8a-cee0-4a97-b89c-8746c37669ea",
   "metadata": {},
   "source": [
    "## Question 6\n",
    "#### Match the command/vocab word to the description.\n",
    "You can edit the table!\n",
    "\n",
    "| Command / Vocab     | Answer | Description |\n",
    "|---------------------|------------|------------|\n",
    "| git stash          | B | A.  Gives project history |\n",
    "| git push           | J | B.  Takes any changes that haven't been committed and puts them in a dust bin |\n",
    "| git clone          | N | C.  Shows who last modified each line of a file and in which commit |\n",
    "| git commit         | M | D.  Retrieves any commits on the remote branch that you don’t yet have locally and integrates them into your current branch |\n",
    "| git log            | A | E.  Moves something from the branch to the working copy |\n",
    "| git add -i         | K | F.  Lists which files are staged, unstaged, and untracked |\n",
    "| git rebase         | P | G.  Displays information about a specific commit |\n",
    "| git init           | Q | H.  Combines two branches together in a way that is not ideal for your collaborators |\n",
    "| git checkout       | E | I.  Adds changes from the working directory to the staging area |\n",
    "| git status         | F | J.  Pushes the new commits to the main branch |\n",
    "| git diff           | O | K.  Interactive staging! |\n",
    "| git merge          | H | L.  Text file that contains names of files Git should not track |\n",
    "| git add            | I | M.  Saves file changes to the main branch |\n",
    "| git pull           | D | N.  Makes a copy of an existing repo at in a new directory at another location |\n",
    "| git show           | G | O.  Compares current, unsaved changes to the main branch |\n",
    "| git blame          | C | P.  Combines branches by moving commits onto the tip of another branch, creating a linear history |\n",
    "| .gitignore         | L | Q. Creates a new git repository |"
   ]
  },
  {
   "cell_type": "markdown",
   "id": "36663f18-7e8a-4400-86ef-1cbda6b508c1",
   "metadata": {},
   "source": [
    "## Question 7\n",
    "#### Walk me through how you would do interactive staging.\n",
    "#### a) Firstly, what situation would interactive staging be useful in?\n",
    "#### b) What command(s) help you prepare for what you'll see while interactive staging? \n",
    "*Hint*: Check the TA notes.\n",
    "#### b) What git command would you use to start interactive staging?\n",
    "\n",
    "#### c) On the text-based interactive menu, what option do you use?\n",
    "\n",
    "#### d) After pressing that option, how do you select the file you want to stage?\n",
    "\n",
    "#### e) What option do you type if you do not want to stage a hunk?\n",
    "\n",
    "#### f) Once you get to a hunk you want to stage, what do you do?\n",
    "\n",
    "#### g) What if we have more hunks we want to stage?\n"
   ]
  },
  {
   "cell_type": "markdown",
   "id": "f8afbddd-0fac-4cdc-a993-65c6f3bd0b2a",
   "metadata": {},
   "source": [
    "a) interactive staging allows you to carefully construct a series of commits.\n",
    "this is useful because it allows you to not have to stop every couple lines of code to make a commit. \n",
    "b) \n",
    "git status\n",
    "git diff\n",
    "b) git add -i\n",
    "c) type p for patch\n",
    "d) type y to stage this hunk\n",
    "e) type n to not stage this hunk\n",
    "f) enter control D to exit interactive staging and say git status to see that the file you've edited is in the changes to be committed \n",
    "g) you can continue staging all remaining hunks in a new interactive session by starting it over (git add -i)."
   ]
  }
 ],
 "metadata": {
  "kernelspec": {
   "display_name": "Python 3 (ipykernel)",
   "language": "python",
   "name": "python3"
  },
  "language_info": {
   "codemirror_mode": {
    "name": "ipython",
    "version": 3
   },
   "file_extension": ".py",
   "mimetype": "text/x-python",
   "name": "python",
   "nbconvert_exporter": "python",
   "pygments_lexer": "ipython3",
   "version": "3.13.7"
  }
 },
 "nbformat": 4,
 "nbformat_minor": 5
}
